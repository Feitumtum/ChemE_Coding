{
 "cells": [
  {
   "cell_type": "code",
   "execution_count": 1,
   "metadata": {},
   "outputs": [],
   "source": [
    "import numpy as np\n",
    "import pandas as pd\n",
    "from math import gcd\n",
    "from scipy.optimize import fsolve\n",
    "from IPython.display import display, Math, Latex"
   ]
  },
  {
   "cell_type": "markdown",
   "metadata": {},
   "source": [
    "## Set Interest"
   ]
  },
  {
   "cell_type": "code",
   "execution_count": 2,
   "metadata": {},
   "outputs": [],
   "source": [
    "interest = 8 # interest in %\n",
    "interest = interest / 100"
   ]
  },
  {
   "cell_type": "markdown",
   "metadata": {},
   "source": [
    "## Input Data"
   ]
  },
  {
   "cell_type": "code",
   "execution_count": 3,
   "metadata": {},
   "outputs": [
    {
     "data": {
      "text/html": [
       "<div>\n",
       "<style scoped>\n",
       "    .dataframe tbody tr th:only-of-type {\n",
       "        vertical-align: middle;\n",
       "    }\n",
       "\n",
       "    .dataframe tbody tr th {\n",
       "        vertical-align: top;\n",
       "    }\n",
       "\n",
       "    .dataframe thead th {\n",
       "        text-align: right;\n",
       "    }\n",
       "</style>\n",
       "<table border=\"1\" class=\"dataframe\">\n",
       "  <thead>\n",
       "    <tr style=\"text-align: right;\">\n",
       "      <th></th>\n",
       "      <th>A</th>\n",
       "      <th>B</th>\n",
       "    </tr>\n",
       "  </thead>\n",
       "  <tbody>\n",
       "    <tr>\n",
       "      <th>Installation_Cost</th>\n",
       "      <td>50000</td>\n",
       "      <td>90000</td>\n",
       "    </tr>\n",
       "    <tr>\n",
       "      <th>Annual_Maintenance</th>\n",
       "      <td>5000</td>\n",
       "      <td>2000</td>\n",
       "    </tr>\n",
       "    <tr>\n",
       "      <th>Salvage</th>\n",
       "      <td>20000</td>\n",
       "      <td>40000</td>\n",
       "    </tr>\n",
       "    <tr>\n",
       "      <th>Service_Life</th>\n",
       "      <td>3</td>\n",
       "      <td>4</td>\n",
       "    </tr>\n",
       "  </tbody>\n",
       "</table>\n",
       "</div>"
      ],
      "text/plain": [
       "                        A      B\n",
       "Installation_Cost   50000  90000\n",
       "Annual_Maintenance   5000   2000\n",
       "Salvage             20000  40000\n",
       "Service_Life            3      4"
      ]
     },
     "execution_count": 3,
     "metadata": {},
     "output_type": "execute_result"
    }
   ],
   "source": [
    "sheet_name = \"I06_Sample\"\n",
    "sheet_name = \"IP1_Sample\"\n",
    "sheet_name = \"Sample_Exam_B\"\n",
    "sheet_name = \"LP1\"\n",
    "\n",
    "sheet_name = \"Exam2\"\n",
    "\n",
    "input = pd.read_excel(\"Econmoics_Input.xlsx\",index_col=0, sheet_name=sheet_name)\n",
    "input"
   ]
  },
  {
   "cell_type": "markdown",
   "metadata": {},
   "source": [
    "## Find LCM"
   ]
  },
  {
   "cell_type": "code",
   "execution_count": 4,
   "metadata": {},
   "outputs": [
    {
     "data": {
      "text/plain": [
       "12"
      ]
     },
     "execution_count": 4,
     "metadata": {},
     "output_type": "execute_result"
    }
   ],
   "source": [
    "range = input.loc[\"Service_Life\"].tolist()\n",
    "lcm = np.lcm.reduce(range)\n",
    "lcm"
   ]
  },
  {
   "cell_type": "markdown",
   "metadata": {},
   "source": [
    "## Helper Functions"
   ]
  },
  {
   "cell_type": "code",
   "execution_count": 5,
   "metadata": {},
   "outputs": [],
   "source": [
    "def maintenance_cost(cost,lcm):\n",
    "    return cost * ((1+interest)**lcm - 1) / (interest * (1+interest)**lcm)"
   ]
  },
  {
   "cell_type": "code",
   "execution_count": 6,
   "metadata": {},
   "outputs": [],
   "source": [
    "def salvage_gain(value, lcm):\n",
    "    return value / (1+interest)**lcm"
   ]
  },
  {
   "cell_type": "code",
   "execution_count": 7,
   "metadata": {},
   "outputs": [],
   "source": [
    "def utility_cost(installation_cost, salvage_gain, service_life, lcm):\n",
    "    yearly_cost = installation_cost - salvage_gain\n",
    "    range = np.linspace(service_life,lcm,int(lcm/service_life))[:-1]\n",
    "\n",
    "    sum = 0\n",
    "\n",
    "    for x in range:\n",
    "        sum = sum + yearly_cost / ((1+interest)**x)\n",
    "\n",
    "    return sum"
   ]
  },
  {
   "cell_type": "code",
   "execution_count": 8,
   "metadata": {},
   "outputs": [],
   "source": [
    "def total_cost(input,lcm):\n",
    "    installation = input[\"Installation_Cost\"]\n",
    "    maintence = maintenance_cost(input[\"Annual_Maintenance\"],lcm)\n",
    "    salvage = salvage_gain(input[\"Salvage\"], lcm) \n",
    "    utility = utility_cost(installation,input[\"Salvage\"],input[\"Service_Life\"],lcm)\n",
    "\n",
    "    print(\"Install:    \", installation)\n",
    "    print(\"Utility:    \", utility)\n",
    "    print(\"Maintenence:\", maintence)\n",
    "    print(\"Salveage:   \", salvage)\n",
    "\n",
    "    return installation + utility + maintence - salvage"
   ]
  },
  {
   "cell_type": "markdown",
   "metadata": {},
   "source": [
    "## Find cost for each item"
   ]
  },
  {
   "cell_type": "code",
   "execution_count": 9,
   "metadata": {},
   "outputs": [
    {
     "name": "stdout",
     "output_type": "stream",
     "text": [
      "Install:     50000\n",
      "Utility:     57727.525051041994\n",
      "Maintenence: 37680.39008462555\n",
      "Salveage:    7942.275172919824\n"
     ]
    },
    {
     "data": {
      "text/plain": [
       "137465.63996274772"
      ]
     },
     "execution_count": 9,
     "metadata": {},
     "output_type": "execute_result"
    }
   ],
   "source": [
    "total_cost(input.A.to_dict(),lcm)"
   ]
  },
  {
   "cell_type": "code",
   "execution_count": 10,
   "metadata": {},
   "outputs": [
    {
     "name": "stdout",
     "output_type": "stream",
     "text": [
      "Install:     90000\n",
      "Utility:     63764.936864921445\n",
      "Maintenence: 15072.156033850219\n",
      "Salveage:    15884.550345839649\n"
     ]
    },
    {
     "data": {
      "text/plain": [
       "152952.54255293202"
      ]
     },
     "execution_count": 10,
     "metadata": {},
     "output_type": "execute_result"
    }
   ],
   "source": [
    "total_cost(input.B.to_dict(),lcm)"
   ]
  },
  {
   "cell_type": "code",
   "execution_count": 11,
   "metadata": {},
   "outputs": [
    {
     "name": "stdout",
     "output_type": "stream",
     "text": [
      "Equation for Yearly Maintence\n"
     ]
    },
    {
     "data": {
      "text/latex": [
       "$\\displaystyle maintence*\\frac{1.1^M - {1}}{0.1*1.1^M}$"
      ],
      "text/plain": [
       "<IPython.core.display.Math object>"
      ]
     },
     "metadata": {},
     "output_type": "display_data"
    }
   ],
   "source": [
    "print(\"Equation for Yearly Maintence\")\n",
    "display(Math(r'$maintence*\\frac{1.1^M - {1}}{0.1*1.1^M}$'))"
   ]
  },
  {
   "cell_type": "code",
   "execution_count": 12,
   "metadata": {},
   "outputs": [
    {
     "name": "stdout",
     "output_type": "stream",
     "text": [
      "Equation for Interest of Last Salvage\n"
     ]
    },
    {
     "data": {
      "text/latex": [
       "$\\displaystyle \\frac{Salvage}{1.1^M}$"
      ],
      "text/plain": [
       "<IPython.core.display.Math object>"
      ]
     },
     "metadata": {},
     "output_type": "display_data"
    }
   ],
   "source": [
    "print(\"Equation for Interest of Last Salvage\")\n",
    "display(Math(r'$\\frac{Salvage}{1.1^M}$'))"
   ]
  },
  {
   "cell_type": "code",
   "execution_count": 13,
   "metadata": {},
   "outputs": [
    {
     "name": "stdout",
     "output_type": "stream",
     "text": [
      "Equation for Salvage during life\n"
     ]
    },
    {
     "data": {
      "text/latex": [
       "$\\displaystyle \\frac{Install - Salvage}{1.1^M}$"
      ],
      "text/plain": [
       "<IPython.core.display.Math object>"
      ]
     },
     "metadata": {},
     "output_type": "display_data"
    }
   ],
   "source": [
    "print(\"Equation for Salvage during life\")\n",
    "display(Math(r'$\\frac{Install - Salvage}{1.1^M}$'))"
   ]
  },
  {
   "cell_type": "markdown",
   "metadata": {},
   "source": [
    "## Search for missing component"
   ]
  },
  {
   "cell_type": "code",
   "execution_count": 14,
   "metadata": {},
   "outputs": [],
   "source": [
    "desired_cost = 64892.95627134386"
   ]
  },
  {
   "cell_type": "markdown",
   "metadata": {},
   "source": [
    "## Change which column is missing stuff"
   ]
  },
  {
   "cell_type": "code",
   "execution_count": 15,
   "metadata": {},
   "outputs": [
    {
     "ename": "IndexError",
     "evalue": "list index out of range",
     "output_type": "error",
     "traceback": [
      "\u001b[1;31m---------------------------------------------------------------------------\u001b[0m",
      "\u001b[1;31mIndexError\u001b[0m                                Traceback (most recent call last)",
      "\u001b[1;32mc:\\Users\\cryst\\Mirror\\Desktop\\School\\UMD 2022-2023\\Coding\\CHBE444_TI_Method\\Economics_Analysis.ipynb Cell 22\u001b[0m in \u001b[0;36m<cell line: 3>\u001b[1;34m()\u001b[0m\n\u001b[0;32m      <a href='vscode-notebook-cell:/c%3A/Users/cryst/Mirror/Desktop/School/UMD%202022-2023/Coding/CHBE444_TI_Method/Economics_Analysis.ipynb#X42sZmlsZQ%3D%3D?line=0'>1</a>\u001b[0m given \u001b[39m=\u001b[39m \u001b[39minput\u001b[39m\u001b[39m.\u001b[39mA\u001b[39m.\u001b[39mto_dict() \u001b[39mif\u001b[39;00m \u001b[39m\"\u001b[39m\u001b[39mx\u001b[39m\u001b[39m\"\u001b[39m \u001b[39min\u001b[39;00m \u001b[39minput\u001b[39m\u001b[39m.\u001b[39mA\u001b[39m.\u001b[39mto_dict()\u001b[39m.\u001b[39mvalues() \u001b[39melse\u001b[39;00m \u001b[39minput\u001b[39m\u001b[39m.\u001b[39mB\u001b[39m.\u001b[39mto_dict()\n\u001b[0;32m      <a href='vscode-notebook-cell:/c%3A/Users/cryst/Mirror/Desktop/School/UMD%202022-2023/Coding/CHBE444_TI_Method/Economics_Analysis.ipynb#X42sZmlsZQ%3D%3D?line=1'>2</a>\u001b[0m missing_component \u001b[39m=\u001b[39m {i \u001b[39mfor\u001b[39;00m i \u001b[39min\u001b[39;00m given \u001b[39mif\u001b[39;00m given[i]\u001b[39m==\u001b[39m\u001b[39m\"\u001b[39m\u001b[39mx\u001b[39m\u001b[39m\"\u001b[39m}\n\u001b[1;32m----> <a href='vscode-notebook-cell:/c%3A/Users/cryst/Mirror/Desktop/School/UMD%202022-2023/Coding/CHBE444_TI_Method/Economics_Analysis.ipynb#X42sZmlsZQ%3D%3D?line=2'>3</a>\u001b[0m missing_component \u001b[39m=\u001b[39m \u001b[39mlist\u001b[39;49m(missing_component)[\u001b[39m0\u001b[39;49m]\n\u001b[0;32m      <a href='vscode-notebook-cell:/c%3A/Users/cryst/Mirror/Desktop/School/UMD%202022-2023/Coding/CHBE444_TI_Method/Economics_Analysis.ipynb#X42sZmlsZQ%3D%3D?line=3'>4</a>\u001b[0m given\n",
      "\u001b[1;31mIndexError\u001b[0m: list index out of range"
     ]
    }
   ],
   "source": [
    "given = input.A.to_dict() if \"x\" in input.A.to_dict().values() else input.B.to_dict()\n",
    "missing_component = {i for i in given if given[i]==\"x\"}\n",
    "missing_component = list(missing_component)[0]\n",
    "given"
   ]
  },
  {
   "cell_type": "code",
   "execution_count": null,
   "metadata": {},
   "outputs": [],
   "source": [
    "def f(x):\n",
    "    given = input.A.to_dict()\n",
    "    given[missing_component] = x\n",
    "    output = total_cost(given,lcm)\n",
    "    \n",
    "    return output - desired_cost\n",
    "\n",
    "x = fsolve(f, 10)\n",
    "x, f(x)\n"
   ]
  },
  {
   "cell_type": "code",
   "execution_count": null,
   "metadata": {},
   "outputs": [],
   "source": []
  }
 ],
 "metadata": {
  "kernelspec": {
   "display_name": "Python 3.9.0 64-bit",
   "language": "python",
   "name": "python3"
  },
  "language_info": {
   "codemirror_mode": {
    "name": "ipython",
    "version": 3
   },
   "file_extension": ".py",
   "mimetype": "text/x-python",
   "name": "python",
   "nbconvert_exporter": "python",
   "pygments_lexer": "ipython3",
   "version": "3.9.0 (tags/v3.9.0:9cf6752, Oct  5 2020, 15:34:40) [MSC v.1927 64 bit (AMD64)]"
  },
  "orig_nbformat": 4,
  "vscode": {
   "interpreter": {
    "hash": "c55ef6f121e765fd0c56a134b15d8948bb7bf7c58fd9f05f34cc11fd09954cf2"
   }
  }
 },
 "nbformat": 4,
 "nbformat_minor": 2
}
